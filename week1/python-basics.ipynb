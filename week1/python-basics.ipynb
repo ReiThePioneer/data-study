{
 "cells": [
  {
   "cell_type": "markdown",
   "id": "affa9483",
   "metadata": {},
   "source": [
    "## Python for data analysis\n",
    "* 파이썬 공식 튜토리얼 : https://docs.python.org/3/tutorial/index.html"
   ]
  },
  {
   "cell_type": "markdown",
   "id": "2d90b8f8",
   "metadata": {},
   "source": [
    "## Zen of Python\n",
    "* 파이썬의 철학이 잘 담겨있는 Zen of Python을 출력해봅니다.\n",
    "* import를 통해 파이썬의 라이브러리나 패키지를 가져올 수 있습니다."
   ]
  },
  {
   "cell_type": "code",
   "execution_count": 3,
   "id": "4f60d51e",
   "metadata": {},
   "outputs": [
    {
     "name": "stdout",
     "output_type": "stream",
     "text": [
      "The Zen of Python, by Tim Peters\n",
      "\n",
      "Beautiful is better than ugly.\n",
      "Explicit is better than implicit.\n",
      "Simple is better than complex.\n",
      "Complex is better than complicated.\n",
      "Flat is better than nested.\n",
      "Sparse is better than dense.\n",
      "Readability counts.\n",
      "Special cases aren't special enough to break the rules.\n",
      "Although practicality beats purity.\n",
      "Errors should never pass silently.\n",
      "Unless explicitly silenced.\n",
      "In the face of ambiguity, refuse the temptation to guess.\n",
      "There should be one-- and preferably only one --obvious way to do it.\n",
      "Although that way may not be obvious at first unless you're Dutch.\n",
      "Now is better than never.\n",
      "Although never is often better than *right* now.\n",
      "If the implementation is hard to explain, it's a bad idea.\n",
      "If the implementation is easy to explain, it may be a good idea.\n",
      "Namespaces are one honking great idea -- let's do more of those!\n"
     ]
    }
   ],
   "source": [
    "# PEP20\n",
    "import this"
   ]
  },
  {
   "cell_type": "markdown",
   "id": "7820817b",
   "metadata": {},
   "source": [
    "## boolean\n",
    "* 파이썬에는 명시적인 것이 암시적인 것보다 낫다 라는 철학이 있습니다.\n",
    "* True나 False는 0과 1로도 표현할 수 있으나, 명시적으로 표현하기 위해 True와 False를 사용합니다."
   ]
  },
  {
   "cell_type": "code",
   "execution_count": 4,
   "id": "d2a5372f",
   "metadata": {},
   "outputs": [
    {
     "data": {
      "text/plain": [
       "True"
      ]
     },
     "execution_count": 4,
     "metadata": {},
     "output_type": "execute_result"
    }
   ],
   "source": [
    "# True 출력\n",
    "True"
   ]
  },
  {
   "cell_type": "code",
   "execution_count": 6,
   "id": "d57f4554",
   "metadata": {},
   "outputs": [
    {
     "data": {
      "text/plain": [
       "False"
      ]
     },
     "execution_count": 6,
     "metadata": {},
     "output_type": "execute_result"
    }
   ],
   "source": [
    "# False 출력\n",
    "False"
   ]
  },
  {
   "cell_type": "code",
   "execution_count": 7,
   "id": "893f7114",
   "metadata": {},
   "outputs": [
    {
     "data": {
      "text/plain": [
       "True"
      ]
     },
     "execution_count": 7,
     "metadata": {},
     "output_type": "execute_result"
    }
   ],
   "source": [
    "# True는 1과 같음\n",
    "True == 1"
   ]
  },
  {
   "cell_type": "code",
   "execution_count": 8,
   "id": "2852f3bc",
   "metadata": {},
   "outputs": [
    {
     "data": {
      "text/plain": [
       "True"
      ]
     },
     "execution_count": 8,
     "metadata": {},
     "output_type": "execute_result"
    }
   ],
   "source": [
    "# False는 0과 같음\n",
    "False == 0"
   ]
  },
  {
   "cell_type": "code",
   "execution_count": 9,
   "id": "77869ff9",
   "metadata": {},
   "outputs": [
    {
     "data": {
      "text/plain": [
       "False"
      ]
     },
     "execution_count": 9,
     "metadata": {},
     "output_type": "execute_result"
    }
   ],
   "source": [
    "# True는 문자 1과는 다름\n",
    "True == \"1\""
   ]
  },
  {
   "cell_type": "code",
   "execution_count": 10,
   "id": "64e088f5",
   "metadata": {},
   "outputs": [
    {
     "data": {
      "text/plain": [
       "True"
      ]
     },
     "execution_count": 10,
     "metadata": {},
     "output_type": "execute_result"
    }
   ],
   "source": [
    "# 문자 1과 True는 다름\n",
    "True != \"1\""
   ]
  },
  {
   "cell_type": "code",
   "execution_count": 12,
   "id": "0fecb1fb",
   "metadata": {},
   "outputs": [
    {
     "data": {
      "text/plain": [
       "False"
      ]
     },
     "execution_count": 12,
     "metadata": {},
     "output_type": "execute_result"
    }
   ],
   "source": [
    "# False는 문자 0과는 다름\n",
    "False == \"0\""
   ]
  },
  {
   "cell_type": "code",
   "execution_count": 13,
   "id": "4ab2d923",
   "metadata": {},
   "outputs": [
    {
     "data": {
      "text/plain": [
       "True"
      ]
     },
     "execution_count": 13,
     "metadata": {},
     "output_type": "execute_result"
    }
   ],
   "source": [
    "False != \"0\""
   ]
  },
  {
   "cell_type": "code",
   "execution_count": 14,
   "id": "e0ebbeef",
   "metadata": {},
   "outputs": [
    {
     "data": {
      "text/plain": [
       "True"
      ]
     },
     "execution_count": 14,
     "metadata": {},
     "output_type": "execute_result"
    }
   ],
   "source": [
    "# and 연산으로 True 값끼리 비교\n",
    "# and는 모든 값이 True일 때만 True가 됨\n",
    "True and True"
   ]
  },
  {
   "cell_type": "code",
   "execution_count": 15,
   "id": "fe4851a9",
   "metadata": {},
   "outputs": [
    {
     "data": {
      "text/plain": [
       "False"
      ]
     },
     "execution_count": 15,
     "metadata": {},
     "output_type": "execute_result"
    }
   ],
   "source": [
    "# and는 조건 중 하나라도 False라면 False가 됨\n",
    "True and False"
   ]
  },
  {
   "cell_type": "code",
   "execution_count": 16,
   "id": "ee2308f1",
   "metadata": {},
   "outputs": [
    {
     "data": {
      "text/plain": [
       "True"
      ]
     },
     "execution_count": 16,
     "metadata": {},
     "output_type": "execute_result"
    }
   ],
   "source": [
    "# or는 하나만 True라도 True가 됨\n",
    "True or False"
   ]
  },
  {
   "cell_type": "markdown",
   "id": "d789c48c",
   "metadata": {},
   "source": [
    "## Number and String\n",
    "* 숫자 1과 문자 \"1\"은 다름. 숫자 1과 문자 1의 데이터 타입을 출력해보자.\n",
    "* 데이터 타입을 표현할 때는 type을 통해 출력한다."
   ]
  },
  {
   "cell_type": "code",
   "execution_count": 17,
   "id": "350758c5",
   "metadata": {},
   "outputs": [
    {
     "data": {
      "text/plain": [
       "1"
      ]
     },
     "execution_count": 17,
     "metadata": {},
     "output_type": "execute_result"
    }
   ],
   "source": [
    "# 숫자 1\n",
    "1"
   ]
  },
  {
   "cell_type": "code",
   "execution_count": 19,
   "id": "7e72d6c3",
   "metadata": {},
   "outputs": [
    {
     "data": {
      "text/plain": [
       "'1'"
      ]
     },
     "execution_count": 19,
     "metadata": {},
     "output_type": "execute_result"
    }
   ],
   "source": [
    "# 문자 1\n",
    "\"1\""
   ]
  },
  {
   "cell_type": "code",
   "execution_count": 20,
   "id": "ddeb6cf4",
   "metadata": {},
   "outputs": [
    {
     "data": {
      "text/plain": [
       "int"
      ]
     },
     "execution_count": 20,
     "metadata": {},
     "output_type": "execute_result"
    }
   ],
   "source": [
    "# 숫자 1의 데이터 타입\n",
    "type(1)"
   ]
  },
  {
   "cell_type": "code",
   "execution_count": 21,
   "id": "7dfff7c2",
   "metadata": {},
   "outputs": [
    {
     "data": {
      "text/plain": [
       "str"
      ]
     },
     "execution_count": 21,
     "metadata": {},
     "output_type": "execute_result"
    }
   ],
   "source": [
    "# 문자 1의 데이터 타입\n",
    "type(\"1\")"
   ]
  },
  {
   "cell_type": "code",
   "execution_count": 22,
   "id": "c5922cbd",
   "metadata": {},
   "outputs": [
    {
     "data": {
      "text/plain": [
       "False"
      ]
     },
     "execution_count": 22,
     "metadata": {},
     "output_type": "execute_result"
    }
   ],
   "source": [
    "# 문자 1과 숫자 1을 비교\n",
    "1 == \"1\""
   ]
  },
  {
   "cell_type": "markdown",
   "id": "4f0cd290",
   "metadata": {},
   "source": [
    "## Strings and Lists\n",
    "* https://docs.python.org/3/tutorial/introduction.html#strings\n",
    "* https://docs.python.org/3/tutorial/introduction.html#lists"
   ]
  },
  {
   "cell_type": "code",
   "execution_count": 24,
   "id": "6eed7544",
   "metadata": {},
   "outputs": [
    {
     "data": {
      "text/plain": [
       "'Hello World!'"
      ]
     },
     "execution_count": 24,
     "metadata": {},
     "output_type": "execute_result"
    }
   ],
   "source": [
    "# \"Hello World!\" 출력하기\n",
    "\"Hello World!\""
   ]
  },
  {
   "cell_type": "code",
   "execution_count": 25,
   "id": "3ce0ce32",
   "metadata": {},
   "outputs": [
    {
     "data": {
      "text/plain": [
       "'경기도 성남시 분당구'"
      ]
     },
     "execution_count": 25,
     "metadata": {},
     "output_type": "execute_result"
    }
   ],
   "source": [
    "# 주소 \"경기도 성남시 분당구\" 출력하기\n",
    "\"경기도 성남시 분당구\""
   ]
  },
  {
   "cell_type": "markdown",
   "id": "cdba0682",
   "metadata": {},
   "source": [
    "* == : 비교 연산\n",
    "* = : 할당 연산"
   ]
  },
  {
   "cell_type": "markdown",
   "id": "5629704a",
   "metadata": {},
   "source": [
    "### Strings"
   ]
  },
  {
   "cell_type": "code",
   "execution_count": 27,
   "id": "7148761a",
   "metadata": {},
   "outputs": [
    {
     "data": {
      "text/plain": [
       "'Today I learned'"
      ]
     },
     "execution_count": 27,
     "metadata": {},
     "output_type": "execute_result"
    }
   ],
   "source": [
    "# til이라는 변수에 문자열 담아보기\n",
    "til = \"Today I learned\"\n",
    "til"
   ]
  },
  {
   "cell_type": "code",
   "execution_count": 28,
   "id": "aecd3fd6",
   "metadata": {},
   "outputs": [
    {
     "data": {
      "text/plain": [
       "'today i learned'"
      ]
     },
     "execution_count": 28,
     "metadata": {},
     "output_type": "execute_result"
    }
   ],
   "source": [
    "# 모두 소문자로 만들기\n",
    "til.lower()"
   ]
  },
  {
   "cell_type": "code",
   "execution_count": 29,
   "id": "fe3eb480",
   "metadata": {},
   "outputs": [
    {
     "data": {
      "text/plain": [
       "'TODAY I LEARNED'"
      ]
     },
     "execution_count": 29,
     "metadata": {},
     "output_type": "execute_result"
    }
   ],
   "source": [
    "# 모두 대문자로 만들기\n",
    "til.upper()"
   ]
  },
  {
   "cell_type": "markdown",
   "id": "cfef167f",
   "metadata": {},
   "source": [
    "### Lists"
   ]
  },
  {
   "cell_type": "code",
   "execution_count": 31,
   "id": "dd81f601",
   "metadata": {},
   "outputs": [
    {
     "data": {
      "text/plain": [
       "[]"
      ]
     },
     "execution_count": 31,
     "metadata": {},
     "output_type": "execute_result"
    }
   ],
   "source": [
    "# 비어있는 리스트 만들기. lang이라는 변수에 담기\n",
    "lang = []\n",
    "lang"
   ]
  },
  {
   "cell_type": "code",
   "execution_count": 38,
   "id": "da9d7d90",
   "metadata": {},
   "outputs": [
    {
     "data": {
      "text/plain": [
       "['python', 'java', 'c']"
      ]
     },
     "execution_count": 38,
     "metadata": {},
     "output_type": "execute_result"
    }
   ],
   "source": [
    "# python, java, c를 원소에 추가하기\n",
    "lang.append(\"python\")\n",
    "lang.append(\"java\")\n",
    "lang.append(\"c\")\n",
    "lang"
   ]
  },
  {
   "cell_type": "code",
   "execution_count": 39,
   "id": "d2c05ac6",
   "metadata": {},
   "outputs": [
    {
     "data": {
      "text/plain": [
       "'python'"
      ]
     },
     "execution_count": 39,
     "metadata": {},
     "output_type": "execute_result"
    }
   ],
   "source": [
    "# lang이라는 변수에 담긴 언어명을 인덱싱을 통해 가져오기\n",
    "lang[0]"
   ]
  },
  {
   "cell_type": "code",
   "execution_count": 40,
   "id": "07c4a6f1",
   "metadata": {},
   "outputs": [
    {
     "data": {
      "text/plain": [
       "'java'"
      ]
     },
     "execution_count": 40,
     "metadata": {},
     "output_type": "execute_result"
    }
   ],
   "source": [
    "lang[1]"
   ]
  },
  {
   "cell_type": "code",
   "execution_count": 41,
   "id": "22ca1c79",
   "metadata": {},
   "outputs": [
    {
     "data": {
      "text/plain": [
       "'c'"
      ]
     },
     "execution_count": 41,
     "metadata": {},
     "output_type": "execute_result"
    }
   ],
   "source": [
    "lang[2]"
   ]
  },
  {
   "cell_type": "code",
   "execution_count": 43,
   "id": "ea286e23",
   "metadata": {},
   "outputs": [
    {
     "data": {
      "text/plain": [
       "'c'"
      ]
     },
     "execution_count": 43,
     "metadata": {},
     "output_type": "execute_result"
    }
   ],
   "source": [
    "# 마지막 인덱스 가져오기\n",
    "lang[-1]"
   ]
  },
  {
   "cell_type": "markdown",
   "id": "559f96f9",
   "metadata": {},
   "source": [
    "## Control Flow\n",
    "* 4. More Control Flow Tools - Python documentation\n",
    "* 제어문 - 조건문, 반복문"
   ]
  },
  {
   "cell_type": "code",
   "execution_count": 44,
   "id": "69c31809",
   "metadata": {},
   "outputs": [
    {
     "name": "stdout",
     "output_type": "stream",
     "text": [
      "python\n",
      "java\n",
      "c\n"
     ]
    }
   ],
   "source": [
    "# 반복문을 통해 리스트의 원소를 하나씩 출력하기\n",
    "for i in lang:\n",
    "    print(i)"
   ]
  },
  {
   "cell_type": "code",
   "execution_count": 45,
   "id": "86361a3f",
   "metadata": {
    "scrolled": true
   },
   "outputs": [
    {
     "name": "stdout",
     "output_type": "stream",
     "text": [
      "python\n",
      "기타\n",
      "기타\n"
     ]
    }
   ],
   "source": [
    "# python일 때는 그대로 출력하고, 나머지는 \"기타\"라고 출력하기\n",
    "for i in lang:\n",
    "    if i == \"python\":\n",
    "        print(\"python\")\n",
    "    else:\n",
    "        print(\"기타\")"
   ]
  },
  {
   "cell_type": "code",
   "execution_count": 49,
   "id": "c08b103d",
   "metadata": {},
   "outputs": [
    {
     "name": "stdout",
     "output_type": "stream",
     "text": [
      "python\n",
      "java\n",
      "c\n"
     ]
    }
   ],
   "source": [
    "# 특정 횟수만큼 반복문 실행\n",
    "count = len(lang)\n",
    "for i in range(count):\n",
    "    print(lang[i])"
   ]
  },
  {
   "cell_type": "code",
   "execution_count": 55,
   "id": "55f6db96",
   "metadata": {},
   "outputs": [
    {
     "name": "stdout",
     "output_type": "stream",
     "text": [
      "java\n",
      "python\n",
      "java\n",
      "python\n",
      "java\n",
      "python\n",
      "java\n",
      "python\n",
      "java\n"
     ]
    }
   ],
   "source": [
    "# for문과 if문 함께 사용해보기\n",
    "# 짝수일 때 python, 홀수일 때 java 출력\n",
    "for i in range(1, 10):\n",
    "    if i % 2 == 0:\n",
    "        print(\"python\")\n",
    "    else:\n",
    "        print(\"java\")"
   ]
  },
  {
   "cell_type": "code",
   "execution_count": 58,
   "id": "3a98d9ef",
   "metadata": {},
   "outputs": [
    {
     "name": "stdout",
     "output_type": "stream",
     "text": [
      "0 python\n",
      "1 java\n",
      "2 c\n"
     ]
    }
   ],
   "source": [
    "# enumerate를 사용하면 index 번호와 원소를 같이 가져올 수 있음\n",
    "for i, val in enumerate(lang):\n",
    "    print(i, val)"
   ]
  },
  {
   "cell_type": "markdown",
   "id": "7614dd32",
   "metadata": {},
   "source": [
    "### 문자열"
   ]
  },
  {
   "cell_type": "code",
   "execution_count": 61,
   "id": "1f79fde9",
   "metadata": {},
   "outputs": [
    {
     "data": {
      "text/plain": [
       "' 경기도 성남시 분당구 불정로 6 NAVER 그린팩토리 16층 '"
      ]
     },
     "execution_count": 61,
     "metadata": {},
     "output_type": "execute_result"
    }
   ],
   "source": [
    "# 주소를 address 변수에 담는다\n",
    "address = \" 경기도 성남시 분당구 불정로 6 NAVER 그린팩토리 16층 \"\n",
    "address"
   ]
  },
  {
   "cell_type": "code",
   "execution_count": 67,
   "id": "4fa3c453",
   "metadata": {},
   "outputs": [
    {
     "data": {
      "text/plain": [
       "'경기도 성남시 분당구 불정로 6 NAVER 그린팩토리 16층'"
      ]
     },
     "execution_count": 67,
     "metadata": {},
     "output_type": "execute_result"
    }
   ],
   "source": [
    "# 앞 뒤 공백 제거\n",
    "# 데이터 전처리 시 주로 사용함\n",
    "address = address.strip()\n",
    "address"
   ]
  },
  {
   "cell_type": "code",
   "execution_count": 68,
   "id": "8bc040af",
   "metadata": {},
   "outputs": [
    {
     "data": {
      "text/plain": [
       "33"
      ]
     },
     "execution_count": 68,
     "metadata": {},
     "output_type": "execute_result"
    }
   ],
   "source": [
    "# 문자열의 길이\n",
    "len(address)"
   ]
  },
  {
   "cell_type": "code",
   "execution_count": 73,
   "id": "248000f4",
   "metadata": {},
   "outputs": [
    {
     "data": {
      "text/plain": [
       "['경기도', '성남시', '분당구', '불정로', '6', 'NAVER', '그린팩토리', '16층']"
      ]
     },
     "execution_count": 73,
     "metadata": {},
     "output_type": "execute_result"
    }
   ],
   "source": [
    "# 공백으로 문자열 분리\n",
    "address_list = address.split()\n",
    "address_list"
   ]
  },
  {
   "cell_type": "code",
   "execution_count": 74,
   "id": "755d5c9f",
   "metadata": {},
   "outputs": [
    {
     "data": {
      "text/plain": [
       "8"
      ]
     },
     "execution_count": 74,
     "metadata": {},
     "output_type": "execute_result"
    }
   ],
   "source": [
    "# 리스트의 길이\n",
    "len(address_list)"
   ]
  },
  {
   "cell_type": "markdown",
   "id": "e19ba15a",
   "metadata": {},
   "source": [
    "* 슬라이싱, startswith, in을 통해 문자열에 \"경기\"가 있는지 확인하기"
   ]
  },
  {
   "cell_type": "code",
   "execution_count": 76,
   "id": "3e63069e",
   "metadata": {},
   "outputs": [
    {
     "data": {
      "text/plain": [
       "'경기'"
      ]
     },
     "execution_count": 76,
     "metadata": {},
     "output_type": "execute_result"
    }
   ],
   "source": [
    "# 슬라이싱으로 문자 가져오기\n",
    "address[:2]"
   ]
  },
  {
   "cell_type": "code",
   "execution_count": 78,
   "id": "c744c260",
   "metadata": {},
   "outputs": [
    {
     "data": {
      "text/plain": [
       "True"
      ]
     },
     "execution_count": 78,
     "metadata": {},
     "output_type": "execute_result"
    }
   ],
   "source": [
    "# startswith : 특정 문자 포함 여부 확인\n",
    "address.startswith(\"경기\")"
   ]
  },
  {
   "cell_type": "code",
   "execution_count": 79,
   "id": "7f4a6ee3",
   "metadata": {},
   "outputs": [
    {
     "data": {
      "text/plain": [
       "True"
      ]
     },
     "execution_count": 79,
     "metadata": {},
     "output_type": "execute_result"
    }
   ],
   "source": [
    "# in : 특정 문자열 포함 여부 확인\n",
    "\"경기\" in address"
   ]
  },
  {
   "cell_type": "markdown",
   "id": "3ea3304b",
   "metadata": {},
   "source": [
    "### 리스트\n",
    "* 문자열에서 쓰는 방법과 비슷하게 메소드 등을 사용할 수 있음\n",
    "* 차이를 비교해보기"
   ]
  },
  {
   "cell_type": "code",
   "execution_count": 84,
   "id": "eec3175a",
   "metadata": {},
   "outputs": [
    {
     "data": {
      "text/plain": [
       "'분당구'"
      ]
     },
     "execution_count": 84,
     "metadata": {},
     "output_type": "execute_result"
    }
   ],
   "source": [
    "# 인덱싱으로 리스트의 원소 가져오기 - 주소에서 구를 가져와 gu라는 변수에 담기\n",
    "gu = address_list[2]\n",
    "gu"
   ]
  },
  {
   "cell_type": "code",
   "execution_count": 86,
   "id": "f5983dad",
   "metadata": {},
   "outputs": [
    {
     "data": {
      "text/plain": [
       "'불정로'"
      ]
     },
     "execution_count": 86,
     "metadata": {},
     "output_type": "execute_result"
    }
   ],
   "source": [
    "# 인덱싱으로 리스트의 원소 가져오기 - 주소에서 도로명을 가져와 street라는 변수에 담기\n",
    "street = address_list[3]\n",
    "street"
   ]
  },
  {
   "cell_type": "code",
   "execution_count": 87,
   "id": "8c5d7382",
   "metadata": {},
   "outputs": [
    {
     "data": {
      "text/plain": [
       "'16층'"
      ]
     },
     "execution_count": 87,
     "metadata": {},
     "output_type": "execute_result"
    }
   ],
   "source": [
    "# 리스트의 마지막을 가져오기\n",
    "address_list[-1]"
   ]
  },
  {
   "cell_type": "code",
   "execution_count": 91,
   "id": "dc20c6d9",
   "metadata": {},
   "outputs": [
    {
     "data": {
      "text/plain": [
       "'경기도 성남시 분당구 불정로 6 NAVER 그린팩토리 16층'"
      ]
     },
     "execution_count": 91,
     "metadata": {},
     "output_type": "execute_result"
    }
   ],
   "source": [
    "# \" \".join(리스트) : 리스트를 공백 문자열에 연결\n",
    "# 리스트로 분리된 문자열을 다시 연결\n",
    "\" \".join(address_list)"
   ]
  },
  {
   "cell_type": "code",
   "execution_count": 93,
   "id": "8d9ffd96",
   "metadata": {},
   "outputs": [
    {
     "data": {
      "text/plain": [
       "['경기도', '성남시', '분당구', '불정로', '6', 'NAVER', '그린팩토리', '16층']"
      ]
     },
     "execution_count": 93,
     "metadata": {},
     "output_type": "execute_result"
    }
   ],
   "source": [
    "address_list"
   ]
  },
  {
   "cell_type": "code",
   "execution_count": 96,
   "id": "ebef1a4e",
   "metadata": {},
   "outputs": [
    {
     "data": {
      "text/plain": [
       "False"
      ]
     },
     "execution_count": 96,
     "metadata": {},
     "output_type": "execute_result"
    }
   ],
   "source": [
    "# in : 리스트에 해당 데이터를 포함 여부 확인\n",
    "# \"경기\"가 리스트에 포함되는지 확인\n",
    "\"경기\" in address_list"
   ]
  },
  {
   "cell_type": "code",
   "execution_count": 95,
   "id": "9bdd3dbb",
   "metadata": {},
   "outputs": [
    {
     "data": {
      "text/plain": [
       "True"
      ]
     },
     "execution_count": 95,
     "metadata": {},
     "output_type": "execute_result"
    }
   ],
   "source": [
    "# in : 리스트에 해당 데이터를 포함 여부 확인\n",
    "# \"분당구\"가 리스트에 포함되는지 확인\n",
    "\"분당구\" in address_list"
   ]
  }
 ],
 "metadata": {
  "kernelspec": {
   "display_name": "Python 3 (ipykernel)",
   "language": "python",
   "name": "python3"
  },
  "language_info": {
   "codemirror_mode": {
    "name": "ipython",
    "version": 3
   },
   "file_extension": ".py",
   "mimetype": "text/x-python",
   "name": "python",
   "nbconvert_exporter": "python",
   "pygments_lexer": "ipython3",
   "version": "3.11.5"
  },
  "toc": {
   "base_numbering": 1,
   "nav_menu": {},
   "number_sections": true,
   "sideBar": true,
   "skip_h1_title": false,
   "title_cell": "Table of Contents",
   "title_sidebar": "Contents",
   "toc_cell": false,
   "toc_position": {},
   "toc_section_display": true,
   "toc_window_display": false
  }
 },
 "nbformat": 4,
 "nbformat_minor": 5
}
