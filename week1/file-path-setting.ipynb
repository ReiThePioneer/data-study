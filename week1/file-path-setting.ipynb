{
 "cells": [
  {
   "cell_type": "markdown",
   "id": "87efa424",
   "metadata": {},
   "source": [
    "* 공공데이터 포털 도로교통공단_월별 주야별 교통사고 통계 : https://www.data.go.kr/data/15070318/fileData.do\n",
    "* 소상공인시장진흥공단 상가(상권)정보 데이터 상세 | 공공데이터포털\n",
    "* glob : 유닉스 스타일 경로명 패턴 확장 | Python 문서"
   ]
  },
  {
   "cell_type": "markdown",
   "id": "2bff99aa",
   "metadata": {},
   "source": [
    "## 절대 경로\n",
    "* 절대 경로는 어떠한 웹페이지나 파일이 가진 고유한 경로로, 최상위 디렉토리가 포함된 경로\n",
    "* 예) file:///Users/user/Downloads/\n",
    "* 예) C:\\user\\documents"
   ]
  },
  {
   "cell_type": "markdown",
   "id": "5b73ef5d",
   "metadata": {},
   "source": [
    "## 상대 경로\n",
    "* 상대 경로는 현재 위치한 곳을 기준으로 하는 경로\n",
    "* / : 루트\n",
    "* ./ : 현재 위치\n",
    "* ../ : 현재 위치의 상위 폴더\n",
    "* ../../ : 두 간계 위의 상위 폴더"
   ]
  },
  {
   "cell_type": "code",
   "execution_count": 2,
   "id": "3997fcb5",
   "metadata": {},
   "outputs": [
    {
     "data": {
      "text/plain": [
       "'/Users/hong_yehee/Desktop/data science/week1'"
      ]
     },
     "execution_count": 2,
     "metadata": {},
     "output_type": "execute_result"
    }
   ],
   "source": [
    "# 실습 파일 경로 확인\n",
    "%pwd"
   ]
  },
  {
   "cell_type": "code",
   "execution_count": 3,
   "id": "522a4ced",
   "metadata": {},
   "outputs": [
    {
     "data": {
      "text/plain": [
       "'/Users/hong_yehee/Desktop/data science/week1'"
      ]
     },
     "execution_count": 3,
     "metadata": {},
     "output_type": "execute_result"
    }
   ],
   "source": [
    "import os\n",
    "os.getcwd()"
   ]
  },
  {
   "cell_type": "code",
   "execution_count": 12,
   "id": "d490c6aa",
   "metadata": {},
   "outputs": [
    {
     "data": {
      "text/plain": [
       "'data/도로교통공단_사고유형별 교통사고 통계_20221231.csv'"
      ]
     },
     "execution_count": 12,
     "metadata": {},
     "output_type": "execute_result"
    }
   ],
   "source": [
    "# glob\n",
    "from glob import glob\n",
    "\n",
    "file_name = glob(\"data/*\")[0]\n",
    "file_name"
   ]
  },
  {
   "cell_type": "code",
   "execution_count": 4,
   "id": "1a766275",
   "metadata": {},
   "outputs": [],
   "source": [
    "import pandas as pd"
   ]
  },
  {
   "cell_type": "code",
   "execution_count": 13,
   "id": "93f05784",
   "metadata": {},
   "outputs": [
    {
     "data": {
      "text/html": [
       "<div>\n",
       "<style scoped>\n",
       "    .dataframe tbody tr th:only-of-type {\n",
       "        vertical-align: middle;\n",
       "    }\n",
       "\n",
       "    .dataframe tbody tr th {\n",
       "        vertical-align: top;\n",
       "    }\n",
       "\n",
       "    .dataframe thead th {\n",
       "        text-align: right;\n",
       "    }\n",
       "</style>\n",
       "<table border=\"1\" class=\"dataframe\">\n",
       "  <thead>\n",
       "    <tr style=\"text-align: right;\">\n",
       "      <th></th>\n",
       "      <th>사고유형대분류</th>\n",
       "      <th>사고유형중분류</th>\n",
       "      <th>사고유형</th>\n",
       "      <th>사고건수</th>\n",
       "      <th>사망자수</th>\n",
       "      <th>중상자수</th>\n",
       "      <th>경상자수</th>\n",
       "      <th>부상신고자수</th>\n",
       "    </tr>\n",
       "  </thead>\n",
       "  <tbody>\n",
       "    <tr>\n",
       "      <th>0</th>\n",
       "      <td>차대사람</td>\n",
       "      <td>횡단중</td>\n",
       "      <td>횡단중</td>\n",
       "      <td>13224</td>\n",
       "      <td>432</td>\n",
       "      <td>5909</td>\n",
       "      <td>7115</td>\n",
       "      <td>554</td>\n",
       "    </tr>\n",
       "    <tr>\n",
       "      <th>1</th>\n",
       "      <td>차대사람</td>\n",
       "      <td>차도통행중</td>\n",
       "      <td>차도통행중</td>\n",
       "      <td>4401</td>\n",
       "      <td>148</td>\n",
       "      <td>1617</td>\n",
       "      <td>2471</td>\n",
       "      <td>318</td>\n",
       "    </tr>\n",
       "    <tr>\n",
       "      <th>2</th>\n",
       "      <td>차대사람</td>\n",
       "      <td>길가장자리구역통행중</td>\n",
       "      <td>길가장자리구역통행중</td>\n",
       "      <td>2100</td>\n",
       "      <td>41</td>\n",
       "      <td>584</td>\n",
       "      <td>1377</td>\n",
       "      <td>174</td>\n",
       "    </tr>\n",
       "    <tr>\n",
       "      <th>3</th>\n",
       "      <td>차대사람</td>\n",
       "      <td>보도통행중</td>\n",
       "      <td>보도통행중</td>\n",
       "      <td>2589</td>\n",
       "      <td>24</td>\n",
       "      <td>822</td>\n",
       "      <td>1736</td>\n",
       "      <td>168</td>\n",
       "    </tr>\n",
       "    <tr>\n",
       "      <th>4</th>\n",
       "      <td>차대사람</td>\n",
       "      <td>기타</td>\n",
       "      <td>기타</td>\n",
       "      <td>14971</td>\n",
       "      <td>256</td>\n",
       "      <td>4694</td>\n",
       "      <td>9475</td>\n",
       "      <td>1348</td>\n",
       "    </tr>\n",
       "    <tr>\n",
       "      <th>5</th>\n",
       "      <td>차대차</td>\n",
       "      <td>정면충돌</td>\n",
       "      <td>정면충돌</td>\n",
       "      <td>7707</td>\n",
       "      <td>188</td>\n",
       "      <td>3337</td>\n",
       "      <td>8955</td>\n",
       "      <td>626</td>\n",
       "    </tr>\n",
       "    <tr>\n",
       "      <th>6</th>\n",
       "      <td>차대차</td>\n",
       "      <td>측면충돌</td>\n",
       "      <td>측면충돌</td>\n",
       "      <td>65221</td>\n",
       "      <td>396</td>\n",
       "      <td>15178</td>\n",
       "      <td>77566</td>\n",
       "      <td>5587</td>\n",
       "    </tr>\n",
       "    <tr>\n",
       "      <th>7</th>\n",
       "      <td>차대차</td>\n",
       "      <td>후진중충돌</td>\n",
       "      <td>후진중충돌</td>\n",
       "      <td>3629</td>\n",
       "      <td>6</td>\n",
       "      <td>257</td>\n",
       "      <td>4454</td>\n",
       "      <td>196</td>\n",
       "    </tr>\n",
       "    <tr>\n",
       "      <th>8</th>\n",
       "      <td>차대차</td>\n",
       "      <td>추돌</td>\n",
       "      <td>추돌</td>\n",
       "      <td>31204</td>\n",
       "      <td>329</td>\n",
       "      <td>6632</td>\n",
       "      <td>45609</td>\n",
       "      <td>2952</td>\n",
       "    </tr>\n",
       "    <tr>\n",
       "      <th>9</th>\n",
       "      <td>차대차</td>\n",
       "      <td>기타</td>\n",
       "      <td>기타</td>\n",
       "      <td>43915</td>\n",
       "      <td>252</td>\n",
       "      <td>9550</td>\n",
       "      <td>49451</td>\n",
       "      <td>4372</td>\n",
       "    </tr>\n",
       "    <tr>\n",
       "      <th>10</th>\n",
       "      <td>차량단독</td>\n",
       "      <td>전도</td>\n",
       "      <td>전도</td>\n",
       "      <td>972</td>\n",
       "      <td>83</td>\n",
       "      <td>369</td>\n",
       "      <td>406</td>\n",
       "      <td>231</td>\n",
       "    </tr>\n",
       "    <tr>\n",
       "      <th>11</th>\n",
       "      <td>차량단독</td>\n",
       "      <td>전복</td>\n",
       "      <td>전복</td>\n",
       "      <td>131</td>\n",
       "      <td>16</td>\n",
       "      <td>81</td>\n",
       "      <td>51</td>\n",
       "      <td>22</td>\n",
       "    </tr>\n",
       "    <tr>\n",
       "      <th>12</th>\n",
       "      <td>차량단독</td>\n",
       "      <td>공작물충돌</td>\n",
       "      <td>공작물충돌</td>\n",
       "      <td>2697</td>\n",
       "      <td>322</td>\n",
       "      <td>1240</td>\n",
       "      <td>1435</td>\n",
       "      <td>504</td>\n",
       "    </tr>\n",
       "    <tr>\n",
       "      <th>13</th>\n",
       "      <td>차량단독</td>\n",
       "      <td>주/정차차량 충돌</td>\n",
       "      <td>주/정차차량 충돌</td>\n",
       "      <td>35</td>\n",
       "      <td>4</td>\n",
       "      <td>9</td>\n",
       "      <td>23</td>\n",
       "      <td>4</td>\n",
       "    </tr>\n",
       "    <tr>\n",
       "      <th>14</th>\n",
       "      <td>차량단독</td>\n",
       "      <td>도로이탈</td>\n",
       "      <td>도로이탈 추락</td>\n",
       "      <td>360</td>\n",
       "      <td>81</td>\n",
       "      <td>201</td>\n",
       "      <td>137</td>\n",
       "      <td>51</td>\n",
       "    </tr>\n",
       "    <tr>\n",
       "      <th>15</th>\n",
       "      <td>차량단독</td>\n",
       "      <td>도로이탈</td>\n",
       "      <td>도로이탈 기타</td>\n",
       "      <td>165</td>\n",
       "      <td>20</td>\n",
       "      <td>73</td>\n",
       "      <td>85</td>\n",
       "      <td>37</td>\n",
       "    </tr>\n",
       "    <tr>\n",
       "      <th>16</th>\n",
       "      <td>차량단독</td>\n",
       "      <td>기타</td>\n",
       "      <td>기타</td>\n",
       "      <td>3511</td>\n",
       "      <td>134</td>\n",
       "      <td>1160</td>\n",
       "      <td>2082</td>\n",
       "      <td>513</td>\n",
       "    </tr>\n",
       "    <tr>\n",
       "      <th>17</th>\n",
       "      <td>철길건널목</td>\n",
       "      <td>철길건널목</td>\n",
       "      <td>철길건널목</td>\n",
       "      <td>4</td>\n",
       "      <td>3</td>\n",
       "      <td>2</td>\n",
       "      <td>2</td>\n",
       "      <td>1</td>\n",
       "    </tr>\n",
       "  </tbody>\n",
       "</table>\n",
       "</div>"
      ],
      "text/plain": [
       "   사고유형대분류     사고유형중분류        사고유형   사고건수  사망자수   중상자수   경상자수  부상신고자수\n",
       "0     차대사람         횡단중         횡단중  13224   432   5909   7115     554\n",
       "1     차대사람       차도통행중       차도통행중   4401   148   1617   2471     318\n",
       "2     차대사람  길가장자리구역통행중  길가장자리구역통행중   2100    41    584   1377     174\n",
       "3     차대사람       보도통행중       보도통행중   2589    24    822   1736     168\n",
       "4     차대사람          기타          기타  14971   256   4694   9475    1348\n",
       "5      차대차        정면충돌        정면충돌   7707   188   3337   8955     626\n",
       "6      차대차        측면충돌        측면충돌  65221   396  15178  77566    5587\n",
       "7      차대차       후진중충돌       후진중충돌   3629     6    257   4454     196\n",
       "8      차대차          추돌          추돌  31204   329   6632  45609    2952\n",
       "9      차대차          기타          기타  43915   252   9550  49451    4372\n",
       "10    차량단독          전도          전도    972    83    369    406     231\n",
       "11    차량단독          전복          전복    131    16     81     51      22\n",
       "12    차량단독       공작물충돌       공작물충돌   2697   322   1240   1435     504\n",
       "13    차량단독   주/정차차량 충돌   주/정차차량 충돌     35     4      9     23       4\n",
       "14    차량단독        도로이탈     도로이탈 추락    360    81    201    137      51\n",
       "15    차량단독        도로이탈     도로이탈 기타    165    20     73     85      37\n",
       "16    차량단독          기타          기타   3511   134   1160   2082     513\n",
       "17   철길건널목       철길건널목       철길건널목      4     3      2      2       1"
      ]
     },
     "execution_count": 13,
     "metadata": {},
     "output_type": "execute_result"
    }
   ],
   "source": [
    "pd.read_csv(file_name, encoding=\"cp949\")"
   ]
  },
  {
   "cell_type": "markdown",
   "id": "451fda52",
   "metadata": {},
   "source": [
    "## 여러 파일을 한 번에 로드하기"
   ]
  },
  {
   "cell_type": "code",
   "execution_count": null,
   "id": "78ff1b1b",
   "metadata": {},
   "outputs": [],
   "source": [
    "glob()"
   ]
  },
  {
   "cell_type": "code",
   "execution_count": null,
   "id": "7094d749",
   "metadata": {},
   "outputs": [],
   "source": []
  },
  {
   "cell_type": "code",
   "execution_count": null,
   "id": "29124f0a",
   "metadata": {},
   "outputs": [],
   "source": []
  },
  {
   "cell_type": "code",
   "execution_count": null,
   "id": "0a56cd91",
   "metadata": {},
   "outputs": [],
   "source": []
  },
  {
   "cell_type": "code",
   "execution_count": null,
   "id": "41a79a30",
   "metadata": {},
   "outputs": [],
   "source": []
  },
  {
   "cell_type": "code",
   "execution_count": null,
   "id": "332aca84",
   "metadata": {},
   "outputs": [],
   "source": []
  }
 ],
 "metadata": {
  "kernelspec": {
   "display_name": "Python 3 (ipykernel)",
   "language": "python",
   "name": "python3"
  },
  "language_info": {
   "codemirror_mode": {
    "name": "ipython",
    "version": 3
   },
   "file_extension": ".py",
   "mimetype": "text/x-python",
   "name": "python",
   "nbconvert_exporter": "python",
   "pygments_lexer": "ipython3",
   "version": "3.11.5"
  },
  "toc": {
   "base_numbering": 1,
   "nav_menu": {},
   "number_sections": true,
   "sideBar": true,
   "skip_h1_title": false,
   "title_cell": "Table of Contents",
   "title_sidebar": "Contents",
   "toc_cell": false,
   "toc_position": {},
   "toc_section_display": true,
   "toc_window_display": false
  }
 },
 "nbformat": 4,
 "nbformat_minor": 5
}
